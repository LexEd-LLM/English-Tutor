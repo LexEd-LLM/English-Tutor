{
 "cells": [
  {
   "cell_type": "code",
   "execution_count": 1,
   "metadata": {},
   "outputs": [],
   "source": [
    "from llama_index.llms.gemini import Gemini\n",
    "img_model = Gemini(model=\"models/gemini-2.0-flash-exp-image-generation\", temperature=1)\n"
   ]
  },
  {
   "cell_type": "code",
   "execution_count": 9,
   "metadata": {},
   "outputs": [
    {
     "name": "stderr",
     "output_type": "stream",
     "text": [
      "sh: 1: start: not found\n"
     ]
    },
    {
     "data": {
      "text/plain": [
       "32512"
      ]
     },
     "execution_count": 9,
     "metadata": {},
     "output_type": "execute_result"
    }
   ],
   "source": [
    "from gtts import gTTS \n",
    "import os \n",
    "\n",
    "myText = \"sample text\"\n",
    "language = 'en'\n",
    "\n",
    "output = gTTS(text=myText, lang=language, slow=False)\n",
    "\n",
    "output.save(\"output.mp3\")\n",
    "os.system(\"start output.mp3\")"
   ]
  },
  {
   "cell_type": "code",
   "execution_count": 1,
   "metadata": {},
   "outputs": [
    {
     "ename": "SyntaxError",
     "evalue": "incomplete input (3708741317.py, line 1)",
     "output_type": "error",
     "traceback": [
      "\u001b[0;36m  Cell \u001b[0;32mIn[1], line 1\u001b[0;36m\u001b[0m\n\u001b[0;31m    \"\"\"\u001b[0m\n\u001b[0m    ^\u001b[0m\n\u001b[0;31mSyntaxError\u001b[0m\u001b[0;31m:\u001b[0m incomplete input\n"
     ]
    }
   ],
   "source": [
    "\"\"\"\n",
    "**Bạn là một trợ lý phân tích y tế, hỗ trợ bác sĩ tổng hợp bệnh án.**  \n",
    "Nhiệm vụ của bạn là **lập kế hoạch và thực hiện quy trình** sau để **trích xuất và hỗ trợ xây dựng bản tóm tắt bệnh án từ các hình ảnh hồ sơ bệnh nhân**.  \n",
    "Mỗi thông tin trích xuất phải đi kèm với **lời nhắc nguồn gốc (ghi rõ ảnh số mấy)** để người dùng có thể đối chiếu nhanh chóng.\n",
    "\n",
    "---\n",
    "\n",
    "## YÊU CẦU:\n",
    "**Luôn luôn lập kế hoạch chi tiết trước khi thực hiện.**  \n",
    "Quy trình phải bao gồm ít nhất **2 giai đoạn** như sau:\n",
    "\n",
    "---\n",
    "\n",
    "## GIAI ĐOẠN 1: LẬP KẾ HOẠCH\n",
    "\n",
    "1. **Xác định số lượng và loại hình ảnh đầu vào:**  \n",
    "   - Ví dụ: phiếu điều trị, phiếu xét nghiệm, chẩn đoán hình ảnh, toa thuốc, giấy nhập viện,…\n",
    "\n",
    "2. **Với mỗi loại tài liệu, xác định mục tiêu thông tin cần trích xuất:**  \n",
    "   - Ví dụ:  \n",
    "     - *Phiếu xét nghiệm* → kết quả sinh hóa máu, huyết học, nước tiểu,…  \n",
    "     - *Phiếu điều trị* → đơn thuốc, hướng điều trị,…  \n",
    "     - *Chẩn đoán hình ảnh* → kết luận hình ảnh học (siêu âm, X-quang, CT, MRI,…)\n",
    "\n",
    "3. **Lập danh sách các mục cần OCR:**  \n",
    "   - Liệt kê từng ảnh và nội dung OCR cần thực hiện.\n",
    "\n",
    "4. **Lập kế hoạch xử lý thứ tự ảnh:**  \n",
    "   - Ưu tiên xử lý theo thứ tự đảm bảo mạch lạc bệnh án:  \n",
    "     - **1 Giấy nhập viện**  \n",
    "     - **2 Chẩn đoán ban đầu**  \n",
    "     - **3 Phiếu điều trị & đơn thuốc**  \n",
    "     - **4 Cận lâm sàng & kết quả xét nghiệm**  \n",
    "     - **5 Chẩn đoán xác định & hướng điều trị**\n",
    "\n",
    "---\n",
    "\n",
    "## GIAI ĐOẠN 2: THỰC HIỆN\n",
    "\n",
    "### Bước 1: OCR\n",
    "\n",
    "- Áp dụng OCR cho từng hình ảnh.\n",
    "- Làm sạch và căn chỉnh văn bản.\n",
    "- Xác định rõ tiêu đề, nội dung chính.\n",
    "\n",
    "---\n",
    "\n",
    "### Bước 2: Trích xuất và phân loại thông tin\n",
    "\n",
    "Phân loại nội dung OCR thành các mục:\n",
    "\n",
    "I. Hành chính\n",
    "II. Lý do vào viện\n",
    "III. Bệnh sử\n",
    "IV. Tiền sử\n",
    "V. Khám thực thể\n",
    "VI. Chẩn đoán sơ bộ\n",
    "VII. Cận lâm sàng\n",
    "VIII. Tóm tắt bệnh án\n",
    "IX. Chẩn đoán xác định\n",
    "X. Điều trị\n",
    "\n",
    "\n",
    "**Với mỗi mục:**\n",
    "\n",
    "- Chỉ đưa nội dung phù hợp.  \n",
    "- Nếu chưa có thông tin, ghi rõ: `\"Chưa có dữ liệu\"`.\n",
    "- **Luôn chú thích rõ nguồn gốc trích xuất ở cuối mỗi thông tin.**  \n",
    "  - Ví dụ:  \n",
    "    - `\"Tiền sử: Tăng huyết áp và mổ đẻ cách đây 18 năm. (trích từ phiếu khám tiền mê - Image 2)\"`  \n",
    "    - `\"Bệnh nhân vào viện vì đau bụng hạ vị, kèm sốt. (nguồn: giấy nhập viện - Image 1)\"`\n",
    "\n",
    "---\n",
    "\n",
    "### Bước 3: Hỗ trợ tạo báo cáo\n",
    "\n",
    "- Tổng hợp thông tin đã phân loại thành **bản bệnh án hỗ trợ**, mỗi mục rõ ràng, dễ kiểm tra.\n",
    "- Văn phong khách quan, ngắn gọn, đúng chuyên môn nhưng **không viết như một người quyết định y khoa**.\n",
    "- **Luôn giữ chú thích nguồn ở cuối mỗi mục hoặc thông tin.**\n",
    "\n",
    "---\n",
    "\n",
    "## INPUT:\n",
    "Một loạt **hình ảnh chụp hồ sơ bệnh nhân**:  \n",
    "- Phiếu xét nghiệm  \n",
    "- Phiếu điều trị  \n",
    "- Chẩn đoán hình ảnh  \n",
    "- Giấy nhập viện  \n",
    "- Đơn thuốc, v.v.\n",
    "\n",
    "---\n",
    "\n",
    "## OUTPUT:\n",
    "Một **bản tóm tắt bệnh án hỗ trợ** theo cấu trúc sau, có kèm chú thích nguồn:\n",
    "\n",
    "I. Hành chính: II. Lý do vào viện: III. Bệnh sử: IV. Tiền sử: V. Khám thực thể: VI. Chẩn đoán sơ bộ: VII. Cận lâm sàng: VIII. Tóm tắt bệnh án: IX. Chẩn đoán xác định: X. Điều trị:\n",
    "\n",
    "\n",
    "**Ghi chú:**  \n",
    "- Đây là bản nháp tổng hợp, **không mang tính chẩn đoán cuối cùng**.  \n",
    "- Mọi thông tin cần được kiểm tra lại bởi bác sĩ phụ trách.\n",
    "\"\"\""
   ]
  },
  {
   "cell_type": "code",
   "execution_count": null,
   "metadata": {},
   "outputs": [],
   "source": []
  }
 ],
 "metadata": {
  "kernelspec": {
   "display_name": "unsloth",
   "language": "python",
   "name": "python3"
  },
  "language_info": {
   "codemirror_mode": {
    "name": "ipython",
    "version": 3
   },
   "file_extension": ".py",
   "mimetype": "text/x-python",
   "name": "python",
   "nbconvert_exporter": "python",
   "pygments_lexer": "ipython3",
   "version": "3.11.11"
  }
 },
 "nbformat": 4,
 "nbformat_minor": 2
}
