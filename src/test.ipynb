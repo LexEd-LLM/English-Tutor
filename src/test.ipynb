{
 "cells": [
  {
   "cell_type": "code",
   "execution_count": 1,
   "metadata": {},
   "outputs": [],
   "source": [
    "import gradio as gr\n",
    "import random\n",
    "import numpy as np\n",
    "from dotenv import load_dotenv, find_dotenv\n",
    "import os\n",
    "import json\n",
    "import chromadb\n",
    "from langchain_huggingface import HuggingFaceEmbeddings\n",
    "from llama_index.core import (\n",
    "    VectorStoreIndex, \n",
    "    SimpleDirectoryReader,\n",
    "    StorageContext,\n",
    "    Settings\n",
    ")\n",
    "from llama_index.vector_stores.chroma import ChromaVectorStore\n",
    "from llama_index.embeddings.langchain import LangchainEmbedding\n",
    "from llama_index.core.response_synthesizers import ResponseMode\n",
    "from llama_index.llms.gemini import Gemini\n",
    "from llama_index.core.schema import QueryBundle\n",
    "from llama_index.core.output_parsers import PydanticOutputParser\n",
    "from llama_index.core.prompts import PromptTemplate\n",
    "from pydantic import BaseModel, Field\n",
    "from typing import List\n",
    "\n",
    "_ = load_dotenv(find_dotenv())\n",
    "\n",
    "# Initialize Gemini\n",
    "os.environ[\"GEMINI_API_KEY\"] = os.getenv('GEMINI_API_KEY')\n",
    "llm = Gemini(model=\"models/gemini-2.0-flash\", temperature=1)\n",
    "\n",
    "# Initialize embedding model\n",
    "lc_embed_model = HuggingFaceEmbeddings(\n",
    "    model_name=\"intfloat/multilingual-e5-small\"\n",
    ")\n",
    "embed_model = LangchainEmbedding(lc_embed_model)\n",
    "Settings.embed_model = embed_model\n",
    "\n",
    "# Initialize ChromaDB\n",
    "chroma_client = chromadb.PersistentClient(path=\"./chromadb\")"
   ]
  },
  {
   "cell_type": "code",
   "execution_count": 9,
   "metadata": {},
   "outputs": [],
   "source": [
    "chroma_client = chromadb.PersistentClient(path=\"../chromadb\")\n",
    "\n",
    "def load_database():\n",
    "    \"\"\"\n",
    "    Connect database with ChromaDB backend.\n",
    "    :return: LlamaIndex index\n",
    "    \"\"\"\n",
    "    # Setup ChromaDB\n",
    "    chroma_collection = chroma_client.get_collection(\"unit1_db\")\n",
    "    vector_store = ChromaVectorStore(chroma_collection=chroma_collection)\n",
    "    \n",
    "    # Create index with custom embedding model\n",
    "    index = VectorStoreIndex.from_vector_store(\n",
    "        vector_store=vector_store,\n",
    "        embed_model=embed_model,\n",
    "    )\n",
    "    \n",
    "    return index\n"
   ]
  },
  {
   "cell_type": "code",
   "execution_count": 10,
   "metadata": {},
   "outputs": [
    {
     "data": {
      "text/plain": [
       "<llama_index.core.indices.vector_store.base.VectorStoreIndex at 0x7ce524108d70>"
      ]
     },
     "execution_count": 10,
     "metadata": {},
     "output_type": "execute_result"
    }
   ],
   "source": [
    "load_database()"
   ]
  },
  {
   "cell_type": "code",
   "execution_count": null,
   "metadata": {},
   "outputs": [],
   "source": []
  }
 ],
 "metadata": {
  "kernelspec": {
   "display_name": "ollama",
   "language": "python",
   "name": "python3"
  },
  "language_info": {
   "codemirror_mode": {
    "name": "ipython",
    "version": 3
   },
   "file_extension": ".py",
   "mimetype": "text/x-python",
   "name": "python",
   "nbconvert_exporter": "python",
   "pygments_lexer": "ipython3",
   "version": "3.13.1"
  }
 },
 "nbformat": 4,
 "nbformat_minor": 2
}
