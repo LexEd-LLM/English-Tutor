{
 "cells": [
  {
   "cell_type": "code",
   "execution_count": 1,
   "metadata": {},
   "outputs": [],
   "source": [
    "import sys\n",
    "import os\n",
    "sys.path.append(os.path.abspath(os.path.join(os.getcwd(), '../..')))\n",
    "from backend.database.database import get_db\n"
   ]
  },
  {
   "cell_type": "code",
   "execution_count": 2,
   "metadata": {},
   "outputs": [],
   "source": [
    "quiz_id = 34"
   ]
  },
  {
   "cell_type": "code",
   "execution_count": 5,
   "metadata": {},
   "outputs": [
    {
     "name": "stdout",
     "output_type": "stream",
     "text": [
      "\n",
      "=== Quiz 34 Found ===\n",
      "5\n"
     ]
    }
   ],
   "source": [
    "conn = get_db()\n",
    "with conn.cursor() as cur:\n",
    "    # Verify quiz exists\n",
    "    cur.execute(\"\"\"\n",
    "        SELECT id, user_id, unit_id \n",
    "        FROM user_quizzes \n",
    "        WHERE id = %s\n",
    "    \"\"\", (quiz_id,))\n",
    "    quiz = cur.fetchone()\n",
    "    if not quiz:\n",
    "        print(f\"Quiz {quiz_id} not found!\")\n",
    "    \n",
    "    print(f\"\\n=== Quiz {quiz_id} Found ===\")\n",
    "\n",
    "    # Get current question count\n",
    "    cur.execute(\"\"\"\n",
    "        SELECT COUNT(*) \n",
    "        FROM quiz_questions \n",
    "        WHERE quiz_id = %s\n",
    "    \"\"\", (quiz_id,))\n",
    "    current_count = cur.fetchone()['count']\n",
    "    print(current_count)"
   ]
  },
  {
   "cell_type": "code",
   "execution_count": null,
   "metadata": {},
   "outputs": [],
   "source": [
    "current_count"
   ]
  }
 ],
 "metadata": {
  "kernelspec": {
   "display_name": "ollama",
   "language": "python",
   "name": "python3"
  },
  "language_info": {
   "codemirror_mode": {
    "name": "ipython",
    "version": 3
   },
   "file_extension": ".py",
   "mimetype": "text/x-python",
   "name": "python",
   "nbconvert_exporter": "python",
   "pygments_lexer": "ipython3",
   "version": "3.13.1"
  }
 },
 "nbformat": 4,
 "nbformat_minor": 2
}
