{
 "cells": [
  {
   "cell_type": "code",
   "execution_count": 3,
   "metadata": {},
   "outputs": [],
   "source": [
    "import json"
   ]
  },
  {
   "cell_type": "code",
   "execution_count": 4,
   "metadata": {},
   "outputs": [],
   "source": [
    "with open('/home/buma04/ai-tutor/data/transcript_for_finetune_lm/json_format/unit1_getting_started.json', 'r') as f:\n",
    "    data = json.load(f)"
   ]
  },
  {
   "cell_type": "code",
   "execution_count": 1,
   "metadata": {},
   "outputs": [],
   "source": [
    "def check_missing_instructions(json_file_path):\n",
    "    import json\n",
    "    \n",
    "    with open(json_file_path, 'r', encoding='utf-8') as f:\n",
    "        data = json.load(f)\n",
    "    \n",
    "    missing_instructions = []\n",
    "    for idx, item in enumerate(data):\n",
    "        if 'instruction' not in item:\n",
    "            missing_instructions.append(idx)\n",
    "        elif not isinstance(item['instruction'], str):\n",
    "            missing_instructions.append(idx)\n",
    "        elif item['instruction'].strip() == '':\n",
    "            missing_instructions.append(idx)\n",
    "            \n",
    "    if missing_instructions:\n",
    "        print(f\"Found {len(missing_instructions)} items with missing or invalid instructions:\")\n",
    "        for idx in missing_instructions:\n",
    "            print(f\"Index {idx}:\")\n",
    "            print(json.dumps(data[idx], indent=2, ensure_ascii=False))\n",
    "            print(\"-\" * 50)\n",
    "    else:\n",
    "        print(\"No missing instructions found!\")\n",
    "    \n",
    "    return missing_instructions"
   ]
  },
  {
   "cell_type": "code",
   "execution_count": 3,
   "metadata": {},
   "outputs": [
    {
     "name": "stdout",
     "output_type": "stream",
     "text": [
      "No missing instructions found!\n"
     ]
    },
    {
     "data": {
      "text/plain": [
       "[]"
      ]
     },
     "execution_count": 3,
     "metadata": {},
     "output_type": "execute_result"
    }
   ],
   "source": [
    "check_missing_instructions('/home/buma04/ai-tutor/data/transcript_for_finetune_lm/json_format/unit1_language.json')"
   ]
  },
  {
   "cell_type": "code",
   "execution_count": null,
   "metadata": {},
   "outputs": [],
   "source": []
  }
 ],
 "metadata": {
  "kernelspec": {
   "display_name": "unsloth",
   "language": "python",
   "name": "python3"
  },
  "language_info": {
   "codemirror_mode": {
    "name": "ipython",
    "version": 3
   },
   "file_extension": ".py",
   "mimetype": "text/x-python",
   "name": "python",
   "nbconvert_exporter": "python",
   "pygments_lexer": "ipython3",
   "version": "3.11.11"
  }
 },
 "nbformat": 4,
 "nbformat_minor": 2
}
